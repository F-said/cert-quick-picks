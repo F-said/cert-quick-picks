{
 "cells": [
  {
   "cell_type": "markdown",
   "metadata": {},
   "source": [
    "# Univariate EDA\n",
    "\n",
    "* distributions\n",
    "* pie charts\n",
    "* bar charts\n",
    "* central tendencies "
   ]
  },
  {
   "cell_type": "code",
   "execution_count": 166,
   "metadata": {},
   "outputs": [],
   "source": [
    "import seaborn as sns\n",
    "import matplotlib.pyplot as plt\n",
    "from matplotlib_venn import venn2 \n",
    "\n",
    "import pandas as pd\n",
    "import datetime as dt"
   ]
  },
  {
   "cell_type": "code",
   "execution_count": 146,
   "metadata": {},
   "outputs": [],
   "source": [
    "df = pd.read_csv(\"data/transformed/all_data.csv\")\n",
    "\n",
    "# limit to data to only this year\n",
    "\n",
    "df = df[df[\"date_time\"] > '2023-01-01']"
   ]
  },
  {
   "cell_type": "code",
   "execution_count": 147,
   "metadata": {},
   "outputs": [
    {
     "data": {
      "text/html": [
       "<div>\n",
       "<style scoped>\n",
       "    .dataframe tbody tr th:only-of-type {\n",
       "        vertical-align: middle;\n",
       "    }\n",
       "\n",
       "    .dataframe tbody tr th {\n",
       "        vertical-align: top;\n",
       "    }\n",
       "\n",
       "    .dataframe thead th {\n",
       "        text-align: right;\n",
       "    }\n",
       "</style>\n",
       "<table border=\"1\" class=\"dataframe\">\n",
       "  <thead>\n",
       "    <tr style=\"text-align: right;\">\n",
       "      <th></th>\n",
       "      <th>title</th>\n",
       "      <th>company_name</th>\n",
       "      <th>location</th>\n",
       "      <th>date_time</th>\n",
       "      <th>work_from_home</th>\n",
       "      <th>tech_tokens</th>\n",
       "      <th>deg_tokens</th>\n",
       "      <th>level</th>\n",
       "      <th>etype</th>\n",
       "    </tr>\n",
       "  </thead>\n",
       "  <tbody>\n",
       "    <tr>\n",
       "      <th>194</th>\n",
       "      <td>data analyst</td>\n",
       "      <td>robert half</td>\n",
       "      <td>oklahoma city, ok</td>\n",
       "      <td>2023-05-21 07:00:30.990626</td>\n",
       "      <td>False</td>\n",
       "      <td>['go']</td>\n",
       "      <td>[]</td>\n",
       "      <td>not applicable</td>\n",
       "      <td>contractor</td>\n",
       "    </tr>\n",
       "    <tr>\n",
       "      <th>195</th>\n",
       "      <td>marketing data analyst</td>\n",
       "      <td>ledger bennett</td>\n",
       "      <td>anywhere</td>\n",
       "      <td>2023-05-21 07:00:30.990626</td>\n",
       "      <td>True</td>\n",
       "      <td>['excel', 'tableau', 'sql']</td>\n",
       "      <td>[]</td>\n",
       "      <td>mid-senior level</td>\n",
       "      <td>full-time</td>\n",
       "    </tr>\n",
       "    <tr>\n",
       "      <th>196</th>\n",
       "      <td>boolean search data analyst | $54,000-$108,000...</td>\n",
       "      <td>it pros</td>\n",
       "      <td>anywhere</td>\n",
       "      <td>2023-05-21 07:00:30.990626</td>\n",
       "      <td>True</td>\n",
       "      <td>[]</td>\n",
       "      <td>[]</td>\n",
       "      <td>not applicable</td>\n",
       "      <td>part-time</td>\n",
       "    </tr>\n",
       "    <tr>\n",
       "      <th>197</th>\n",
       "      <td>product data analyst - ditch witch - now hiring</td>\n",
       "      <td>the toro company</td>\n",
       "      <td>perry, ok</td>\n",
       "      <td>2023-05-21 07:00:30.990626</td>\n",
       "      <td>False</td>\n",
       "      <td>['assembly', 'excel', 'sap']</td>\n",
       "      <td>[]</td>\n",
       "      <td>mid-senior level</td>\n",
       "      <td>full-time</td>\n",
       "    </tr>\n",
       "    <tr>\n",
       "      <th>198</th>\n",
       "      <td>data analyst</td>\n",
       "      <td>webtpa</td>\n",
       "      <td>united states</td>\n",
       "      <td>2023-05-21 07:00:30.990626</td>\n",
       "      <td>False</td>\n",
       "      <td>['vba', 'ssrs', 'crystal', 'power_bi', 'ssis',...</td>\n",
       "      <td>[]</td>\n",
       "      <td>not applicable</td>\n",
       "      <td>full-time</td>\n",
       "    </tr>\n",
       "  </tbody>\n",
       "</table>\n",
       "</div>"
      ],
      "text/plain": [
       "                                                 title      company_name  \\\n",
       "194                                       data analyst       robert half   \n",
       "195                             marketing data analyst    ledger bennett   \n",
       "196  boolean search data analyst | $54,000-$108,000...           it pros   \n",
       "197    product data analyst - ditch witch - now hiring  the toro company   \n",
       "198                                       data analyst            webtpa   \n",
       "\n",
       "                   location                   date_time  work_from_home  \\\n",
       "194    oklahoma city, ok     2023-05-21 07:00:30.990626           False   \n",
       "195               anywhere   2023-05-21 07:00:30.990626            True   \n",
       "196               anywhere   2023-05-21 07:00:30.990626            True   \n",
       "197            perry, ok     2023-05-21 07:00:30.990626           False   \n",
       "198        united states     2023-05-21 07:00:30.990626           False   \n",
       "\n",
       "                                           tech_tokens deg_tokens  \\\n",
       "194                                             ['go']         []   \n",
       "195                        ['excel', 'tableau', 'sql']         []   \n",
       "196                                                 []         []   \n",
       "197                       ['assembly', 'excel', 'sap']         []   \n",
       "198  ['vba', 'ssrs', 'crystal', 'power_bi', 'ssis',...         []   \n",
       "\n",
       "                level       etype  \n",
       "194    not applicable  contractor  \n",
       "195  mid-senior level   full-time  \n",
       "196    not applicable   part-time  \n",
       "197  mid-senior level   full-time  \n",
       "198    not applicable   full-time  "
      ]
     },
     "execution_count": 147,
     "metadata": {},
     "output_type": "execute_result"
    }
   ],
   "source": [
    "df.head()"
   ]
  },
  {
   "cell_type": "code",
   "execution_count": 148,
   "metadata": {},
   "outputs": [],
   "source": [
    "df[\"date_time\"] = pd.to_datetime(df[\"date_time\"])"
   ]
  },
  {
   "cell_type": "code",
   "execution_count": 149,
   "metadata": {},
   "outputs": [
    {
     "data": {
      "text/plain": [
       "2023-01    1951\n",
       "2023-02    1438\n",
       "2023-03    1438\n",
       "2023-04    1298\n",
       "2023-05    1242\n",
       "2023-06    1311\n",
       "2023-07    1327\n",
       "Freq: M, Name: date_time, dtype: int64"
      ]
     },
     "execution_count": 149,
     "metadata": {},
     "output_type": "execute_result"
    }
   ],
   "source": [
    "date_jobs = df[\"date_time\"].dt.to_period('M').value_counts().sort_index()\n",
    "date_jobs"
   ]
  },
  {
   "cell_type": "code",
   "execution_count": 150,
   "metadata": {},
   "outputs": [
    {
     "data": {
      "image/png": "[encoded data removed]",
      "text/plain": [
       "<Figure size 432x288 with 1 Axes>"
      ]
     },
     "metadata": {
      "needs_background": "light"
     },
     "output_type": "display_data"
    }
   ],
   "source": [
    "# histograms\n",
    "\n",
    "# view distribution by year and month\n",
    "sns.barplot(x = date_jobs.index , y = date_jobs.values)\n",
    "plt.xticks(rotation=45)\n",
    "plt.show()"
   ]
  },
  {
   "cell_type": "code",
   "execution_count": 151,
   "metadata": {},
   "outputs": [
    {
     "data": {
      "text/plain": [
       "Monday       38.033333\n",
       "Tuesday      42.666667\n",
       "Wednesday    49.500000\n",
       "Thursday     55.133333\n",
       "Friday       54.833333\n",
       "Saturday     52.766667\n",
       "Sunday       39.258065\n",
       "Name: title, dtype: float64"
      ]
     },
     "execution_count": 151,
     "metadata": {},
     "output_type": "execute_result"
    }
   ],
   "source": [
    "order = [\"Monday\", \"Tuesday\", \"Wednesday\", \"Thursday\", \"Friday\", \"Saturday\", \"Sunday\"]\n",
    "\n",
    "day_df = df.copy()\n",
    "\n",
    "day_df.index = df[\"date_time\"]\n",
    "\n",
    "occ = day_df.resample('1D').count()[\"title\"]\n",
    "\n",
    "occ = occ.groupby(occ.index.dayofweek).mean().set_axis(order)\n",
    "\n",
    "occ"
   ]
  },
  {
   "cell_type": "code",
   "execution_count": 152,
   "metadata": {},
   "outputs": [
    {
     "data": {
      "image/png": "[encoded data removed]",
      "text/plain": [
       "<Figure size 432x288 with 1 Axes>"
      ]
     },
     "metadata": {
      "needs_background": "light"
     },
     "output_type": "display_data"
    }
   ],
   "source": [
    "# view average job posting by day over dataframe period\n",
    "sns.barplot(x = occ.index , y = occ.values)\n",
    "plt.xticks(rotation=45)\n",
    "plt.show()"
   ]
  },
  {
   "cell_type": "code",
   "execution_count": 153,
   "metadata": {},
   "outputs": [
    {
     "data": {
      "text/plain": [
       "walmart                                    490\n",
       "cox communications                         239\n",
       "edward jones                               236\n",
       "centene corporation                         85\n",
       "unitedhealth group                          65\n",
       "mtc holding corporation                     58\n",
       "elevance health                             57\n",
       "apex systems                                48\n",
       "humana                                      46\n",
       "state of missouri                           45\n",
       "cynet systems                               41\n",
       "resume library                              40\n",
       "tulsa remote                                38\n",
       "robert half                                 36\n",
       "fidelity investments                        34\n",
       "the judge group                             32\n",
       "peraton                                     32\n",
       "o'reilly auto parts                         27\n",
       "oracle                                      26\n",
       "general dynamics information technology     25\n",
       "Name: company_name, dtype: int64"
      ]
     },
     "execution_count": 153,
     "metadata": {},
     "output_type": "execute_result"
    }
   ],
   "source": [
    "# plot company by bar chart\n",
    "\n",
    "top_comp = df[\"company_name\"].value_counts().sort_values(ascending=False).head(20)\n",
    "\n",
    "top_comp"
   ]
  },
  {
   "cell_type": "code",
   "execution_count": 154,
   "metadata": {},
   "outputs": [
    {
     "data": {
      "image/png": "[encoded data removed]",
      "text/plain": [
       "<Figure size 432x288 with 1 Axes>"
      ]
     },
     "metadata": {
      "needs_background": "light"
     },
     "output_type": "display_data"
    }
   ],
   "source": [
    "sns.barplot(x = top_comp.values, y = top_comp.index)\n",
    "plt.xticks(rotation=45)\n",
    "plt.show()"
   ]
  },
  {
   "cell_type": "code",
   "execution_count": 155,
   "metadata": {},
   "outputs": [
    {
     "data": {
      "image/png": "[encoded data removed]",
      "text/plain": [
       "<Figure size 432x288 with 1 Axes>"
      ]
     },
     "metadata": {
      "needs_background": "light"
     },
     "output_type": "display_data"
    }
   ],
   "source": [
    "# plot seniority by bar chart\n",
    "\n",
    "top_level = df[\"level\"].value_counts().sort_values(ascending=False).head(20)\n",
    "\n",
    "sns.barplot(x = top_level.values, y = top_level.index)\n",
    "plt.xticks(rotation=45)\n",
    "plt.show()"
   ]
  },
  {
   "cell_type": "code",
   "execution_count": 156,
   "metadata": {},
   "outputs": [
    {
     "data": {
      "image/png": "[encoded data removed]",
      "text/plain": [
       "<Figure size 432x288 with 1 Axes>"
      ]
     },
     "metadata": {
      "needs_background": "light"
     },
     "output_type": "display_data"
    }
   ],
   "source": [
    "# plot schedule by bar chart\n",
    "\n",
    "schd = df[\"etype\"].value_counts().sort_values(ascending=False)\n",
    "\n",
    "sns.barplot(x = schd.values, y = schd.index)\n",
    "plt.xticks(rotation=45)\n",
    "plt.show()"
   ]
  },
  {
   "cell_type": "code",
   "execution_count": 157,
   "metadata": {},
   "outputs": [
    {
     "name": "stderr",
     "output_type": "stream",
     "text": [
      "C:\\Users\\saidmf\\AppData\\Local\\Temp\\ipykernel_23136\\3710965495.py:3: FutureWarning: Using the level keyword in DataFrame and Series aggregations is deprecated and will be removed in a future version. Use groupby instead. df.sum(level=1) should use df.groupby(level=1).sum().\n",
      "  skills = pd.get_dummies(df.tech_tokens.apply(eval).explode()).sum(level=0)\n"
     ]
    },
    {
     "data": {
      "text/html": [
       "<div>\n",
       "<style scoped>\n",
       "    .dataframe tbody tr th:only-of-type {\n",
       "        vertical-align: middle;\n",
       "    }\n",
       "\n",
       "    .dataframe tbody tr th {\n",
       "        vertical-align: top;\n",
       "    }\n",
       "\n",
       "    .dataframe thead th {\n",
       "        text-align: right;\n",
       "    }\n",
       "</style>\n",
       "<table border=\"1\" class=\"dataframe\">\n",
       "  <thead>\n",
       "    <tr style=\"text-align: right;\">\n",
       "      <th></th>\n",
       "      <th>airflow</th>\n",
       "      <th>alteryx</th>\n",
       "      <th>apl</th>\n",
       "      <th>asp.net</th>\n",
       "      <th>assembly</th>\n",
       "      <th>atlassian</th>\n",
       "      <th>aurora</th>\n",
       "      <th>aws</th>\n",
       "      <th>azure</th>\n",
       "      <th>bash</th>\n",
       "      <th>...</th>\n",
       "      <th>twilio</th>\n",
       "      <th>typescript</th>\n",
       "      <th>unix</th>\n",
       "      <th>unix/linux</th>\n",
       "      <th>vb.net</th>\n",
       "      <th>vba</th>\n",
       "      <th>visio</th>\n",
       "      <th>visual_basic</th>\n",
       "      <th>vue</th>\n",
       "      <th>word</th>\n",
       "    </tr>\n",
       "  </thead>\n",
       "  <tbody>\n",
       "    <tr>\n",
       "      <th>194</th>\n",
       "      <td>0</td>\n",
       "      <td>0</td>\n",
       "      <td>0</td>\n",
       "      <td>0</td>\n",
       "      <td>0</td>\n",
       "      <td>0</td>\n",
       "      <td>0</td>\n",
       "      <td>0</td>\n",
       "      <td>0</td>\n",
       "      <td>0</td>\n",
       "      <td>...</td>\n",
       "      <td>0</td>\n",
       "      <td>0</td>\n",
       "      <td>0</td>\n",
       "      <td>0</td>\n",
       "      <td>0</td>\n",
       "      <td>0</td>\n",
       "      <td>0</td>\n",
       "      <td>0</td>\n",
       "      <td>0</td>\n",
       "      <td>0</td>\n",
       "    </tr>\n",
       "    <tr>\n",
       "      <th>195</th>\n",
       "      <td>0</td>\n",
       "      <td>0</td>\n",
       "      <td>0</td>\n",
       "      <td>0</td>\n",
       "      <td>0</td>\n",
       "      <td>0</td>\n",
       "      <td>0</td>\n",
       "      <td>0</td>\n",
       "      <td>0</td>\n",
       "      <td>0</td>\n",
       "      <td>...</td>\n",
       "      <td>0</td>\n",
       "      <td>0</td>\n",
       "      <td>0</td>\n",
       "      <td>0</td>\n",
       "      <td>0</td>\n",
       "      <td>0</td>\n",
       "      <td>0</td>\n",
       "      <td>0</td>\n",
       "      <td>0</td>\n",
       "      <td>0</td>\n",
       "    </tr>\n",
       "    <tr>\n",
       "      <th>196</th>\n",
       "      <td>0</td>\n",
       "      <td>0</td>\n",
       "      <td>0</td>\n",
       "      <td>0</td>\n",
       "      <td>0</td>\n",
       "      <td>0</td>\n",
       "      <td>0</td>\n",
       "      <td>0</td>\n",
       "      <td>0</td>\n",
       "      <td>0</td>\n",
       "      <td>...</td>\n",
       "      <td>0</td>\n",
       "      <td>0</td>\n",
       "      <td>0</td>\n",
       "      <td>0</td>\n",
       "      <td>0</td>\n",
       "      <td>0</td>\n",
       "      <td>0</td>\n",
       "      <td>0</td>\n",
       "      <td>0</td>\n",
       "      <td>0</td>\n",
       "    </tr>\n",
       "    <tr>\n",
       "      <th>197</th>\n",
       "      <td>0</td>\n",
       "      <td>0</td>\n",
       "      <td>0</td>\n",
       "      <td>0</td>\n",
       "      <td>1</td>\n",
       "      <td>0</td>\n",
       "      <td>0</td>\n",
       "      <td>0</td>\n",
       "      <td>0</td>\n",
       "      <td>0</td>\n",
       "      <td>...</td>\n",
       "      <td>0</td>\n",
       "      <td>0</td>\n",
       "      <td>0</td>\n",
       "      <td>0</td>\n",
       "      <td>0</td>\n",
       "      <td>0</td>\n",
       "      <td>0</td>\n",
       "      <td>0</td>\n",
       "      <td>0</td>\n",
       "      <td>0</td>\n",
       "    </tr>\n",
       "    <tr>\n",
       "      <th>198</th>\n",
       "      <td>0</td>\n",
       "      <td>0</td>\n",
       "      <td>0</td>\n",
       "      <td>0</td>\n",
       "      <td>0</td>\n",
       "      <td>0</td>\n",
       "      <td>0</td>\n",
       "      <td>0</td>\n",
       "      <td>0</td>\n",
       "      <td>0</td>\n",
       "      <td>...</td>\n",
       "      <td>0</td>\n",
       "      <td>0</td>\n",
       "      <td>0</td>\n",
       "      <td>0</td>\n",
       "      <td>0</td>\n",
       "      <td>1</td>\n",
       "      <td>0</td>\n",
       "      <td>0</td>\n",
       "      <td>0</td>\n",
       "      <td>0</td>\n",
       "    </tr>\n",
       "    <tr>\n",
       "      <th>...</th>\n",
       "      <td>...</td>\n",
       "      <td>...</td>\n",
       "      <td>...</td>\n",
       "      <td>...</td>\n",
       "      <td>...</td>\n",
       "      <td>...</td>\n",
       "      <td>...</td>\n",
       "      <td>...</td>\n",
       "      <td>...</td>\n",
       "      <td>...</td>\n",
       "      <td>...</td>\n",
       "      <td>...</td>\n",
       "      <td>...</td>\n",
       "      <td>...</td>\n",
       "      <td>...</td>\n",
       "      <td>...</td>\n",
       "      <td>...</td>\n",
       "      <td>...</td>\n",
       "      <td>...</td>\n",
       "      <td>...</td>\n",
       "      <td>...</td>\n",
       "    </tr>\n",
       "    <tr>\n",
       "      <th>13138</th>\n",
       "      <td>0</td>\n",
       "      <td>0</td>\n",
       "      <td>0</td>\n",
       "      <td>0</td>\n",
       "      <td>0</td>\n",
       "      <td>0</td>\n",
       "      <td>0</td>\n",
       "      <td>0</td>\n",
       "      <td>0</td>\n",
       "      <td>0</td>\n",
       "      <td>...</td>\n",
       "      <td>0</td>\n",
       "      <td>0</td>\n",
       "      <td>0</td>\n",
       "      <td>0</td>\n",
       "      <td>0</td>\n",
       "      <td>0</td>\n",
       "      <td>0</td>\n",
       "      <td>0</td>\n",
       "      <td>0</td>\n",
       "      <td>0</td>\n",
       "    </tr>\n",
       "    <tr>\n",
       "      <th>13150</th>\n",
       "      <td>0</td>\n",
       "      <td>0</td>\n",
       "      <td>0</td>\n",
       "      <td>0</td>\n",
       "      <td>0</td>\n",
       "      <td>0</td>\n",
       "      <td>0</td>\n",
       "      <td>0</td>\n",
       "      <td>0</td>\n",
       "      <td>0</td>\n",
       "      <td>...</td>\n",
       "      <td>0</td>\n",
       "      <td>0</td>\n",
       "      <td>0</td>\n",
       "      <td>0</td>\n",
       "      <td>0</td>\n",
       "      <td>0</td>\n",
       "      <td>0</td>\n",
       "      <td>0</td>\n",
       "      <td>0</td>\n",
       "      <td>0</td>\n",
       "    </tr>\n",
       "    <tr>\n",
       "      <th>13151</th>\n",
       "      <td>0</td>\n",
       "      <td>0</td>\n",
       "      <td>0</td>\n",
       "      <td>0</td>\n",
       "      <td>0</td>\n",
       "      <td>0</td>\n",
       "      <td>0</td>\n",
       "      <td>0</td>\n",
       "      <td>0</td>\n",
       "      <td>0</td>\n",
       "      <td>...</td>\n",
       "      <td>0</td>\n",
       "      <td>0</td>\n",
       "      <td>0</td>\n",
       "      <td>0</td>\n",
       "      <td>0</td>\n",
       "      <td>0</td>\n",
       "      <td>0</td>\n",
       "      <td>0</td>\n",
       "      <td>0</td>\n",
       "      <td>0</td>\n",
       "    </tr>\n",
       "    <tr>\n",
       "      <th>13152</th>\n",
       "      <td>0</td>\n",
       "      <td>0</td>\n",
       "      <td>0</td>\n",
       "      <td>0</td>\n",
       "      <td>0</td>\n",
       "      <td>0</td>\n",
       "      <td>0</td>\n",
       "      <td>0</td>\n",
       "      <td>0</td>\n",
       "      <td>0</td>\n",
       "      <td>...</td>\n",
       "      <td>0</td>\n",
       "      <td>0</td>\n",
       "      <td>0</td>\n",
       "      <td>0</td>\n",
       "      <td>0</td>\n",
       "      <td>0</td>\n",
       "      <td>0</td>\n",
       "      <td>0</td>\n",
       "      <td>0</td>\n",
       "      <td>1</td>\n",
       "    </tr>\n",
       "    <tr>\n",
       "      <th>13153</th>\n",
       "      <td>0</td>\n",
       "      <td>0</td>\n",
       "      <td>0</td>\n",
       "      <td>0</td>\n",
       "      <td>0</td>\n",
       "      <td>0</td>\n",
       "      <td>0</td>\n",
       "      <td>0</td>\n",
       "      <td>0</td>\n",
       "      <td>0</td>\n",
       "      <td>...</td>\n",
       "      <td>0</td>\n",
       "      <td>0</td>\n",
       "      <td>0</td>\n",
       "      <td>0</td>\n",
       "      <td>0</td>\n",
       "      <td>0</td>\n",
       "      <td>0</td>\n",
       "      <td>0</td>\n",
       "      <td>0</td>\n",
       "      <td>0</td>\n",
       "    </tr>\n",
       "  </tbody>\n",
       "</table>\n",
       "<p>10005 rows × 122 columns</p>\n",
       "</div>"
      ],
      "text/plain": [
       "       airflow  alteryx  apl  asp.net  assembly  atlassian  aurora  aws  \\\n",
       "194          0        0    0        0         0          0       0    0   \n",
       "195          0        0    0        0         0          0       0    0   \n",
       "196          0        0    0        0         0          0       0    0   \n",
       "197          0        0    0        0         1          0       0    0   \n",
       "198          0        0    0        0         0          0       0    0   \n",
       "...        ...      ...  ...      ...       ...        ...     ...  ...   \n",
       "13138        0        0    0        0         0          0       0    0   \n",
       "13150        0        0    0        0         0          0       0    0   \n",
       "13151        0        0    0        0         0          0       0    0   \n",
       "13152        0        0    0        0         0          0       0    0   \n",
       "13153        0        0    0        0         0          0       0    0   \n",
       "\n",
       "       azure  bash  ...  twilio  typescript  unix  unix/linux  vb.net  vba  \\\n",
       "194        0     0  ...       0           0     0           0       0    0   \n",
       "195        0     0  ...       0           0     0           0       0    0   \n",
       "196        0     0  ...       0           0     0           0       0    0   \n",
       "197        0     0  ...       0           0     0           0       0    0   \n",
       "198        0     0  ...       0           0     0           0       0    1   \n",
       "...      ...   ...  ...     ...         ...   ...         ...     ...  ...   \n",
       "13138      0     0  ...       0           0     0           0       0    0   \n",
       "13150      0     0  ...       0           0     0           0       0    0   \n",
       "13151      0     0  ...       0           0     0           0       0    0   \n",
       "13152      0     0  ...       0           0     0           0       0    0   \n",
       "13153      0     0  ...       0           0     0           0       0    0   \n",
       "\n",
       "       visio  visual_basic  vue  word  \n",
       "194        0             0    0     0  \n",
       "195        0             0    0     0  \n",
       "196        0             0    0     0  \n",
       "197        0             0    0     0  \n",
       "198        0             0    0     0  \n",
       "...      ...           ...  ...   ...  \n",
       "13138      0             0    0     0  \n",
       "13150      0             0    0     0  \n",
       "13151      0             0    0     0  \n",
       "13152      0             0    0     1  \n",
       "13153      0             0    0     0  \n",
       "\n",
       "[10005 rows x 122 columns]"
      ]
     },
     "execution_count": 157,
     "metadata": {},
     "output_type": "execute_result"
    }
   ],
   "source": [
    "# binarize before moving forward\n",
    "\n",
    "skills = pd.get_dummies(df.tech_tokens.apply(eval).explode()).sum(level=0)\n",
    "\n",
    "skills"
   ]
  },
  {
   "cell_type": "code",
   "execution_count": 158,
   "metadata": {},
   "outputs": [
    {
     "data": {
      "image/png": "[encoded data removed]",
      "text/plain": [
       "<Figure size 432x288 with 1 Axes>"
      ]
     },
     "metadata": {
      "needs_background": "light"
     },
     "output_type": "display_data"
    }
   ],
   "source": [
    "# visualize all listed skills\n",
    "\n",
    "listed_skills = skills.sum().sort_values(ascending=False).head(10)\n",
    "\n",
    "sns.barplot(x = listed_skills.values, y = listed_skills.index)\n",
    "plt.xticks(rotation=45)\n",
    "plt.show()"
   ]
  },
  {
   "cell_type": "code",
   "execution_count": 170,
   "metadata": {},
   "outputs": [
    {
     "data": {
      "image/png": "[encoded data removed]",
      "text/plain": [
       "<Figure size 432x288 with 1 Axes>"
      ]
     },
     "metadata": {},
     "output_type": "display_data"
    }
   ],
   "source": [
    "# compare language/software (using languages in the loosest of terms)\n",
    "\n",
    "pysql = len(skills[(skills[\"python\"] == 1) & (skills[\"sql\"] == 1)])\n",
    "python = len(skills[skills[\"python\"] == 1])\n",
    "sql = len(skills[skills[\"sql\"] == 1])\n",
    "\n",
    "counts = (python, pysql, sql)\n",
    "venn2(subsets=counts, set_labels = (\"python\", \"sql\"))\n",
    "plt.show()"
   ]
  },
  {
   "cell_type": "code",
   "execution_count": 159,
   "metadata": {},
   "outputs": [
    {
     "data": {
      "image/png": "[encoded data removed]",
      "text/plain": [
       "<Figure size 432x288 with 1 Axes>"
      ]
     },
     "metadata": {
      "needs_background": "light"
     },
     "output_type": "display_data"
    }
   ],
   "source": [
    "# compare cloud compute\n",
    "\n",
    "cloud = [\"azure\", \"aws\", \"bigquery\"]\n",
    "\n",
    "cloud_cert = skills[cloud].sum().sort_values(ascending=False)\n",
    "\n",
    "sns.barplot(x = cloud_cert.values, y = cloud_cert.index)\n",
    "plt.xticks(rotation=45)\n",
    "plt.show()"
   ]
  },
  {
   "cell_type": "code",
   "execution_count": 167,
   "metadata": {},
   "outputs": [
    {
     "data": {
      "image/png": "[encoded data removed]",
      "text/plain": [
       "<Figure size 432x288 with 1 Axes>"
      ]
     },
     "metadata": {},
     "output_type": "display_data"
    }
   ],
   "source": [
    "# ven diagrams\n",
    "\n",
    "intersect = len(skills[(skills[\"azure\"] == 1) & (skills[\"bigquery\"] == 1)])\n",
    "azure = len(skills[skills[\"azure\"] == 1])\n",
    "bg = len(skills[skills[\"bigquery\"] == 1])\n",
    "\n",
    "counts = (azure, intersect, bg)\n",
    "venn2(subsets=counts, set_labels = (\"azure\", \"bigquery\"))\n",
    "plt.show()"
   ]
  },
  {
   "cell_type": "code",
   "execution_count": 169,
   "metadata": {},
   "outputs": [
    {
     "data": {
      "image/png": "[encoded data removed]",
      "text/plain": [
       "<Figure size 432x288 with 1 Axes>"
      ]
     },
     "metadata": {},
     "output_type": "display_data"
    }
   ],
   "source": [
    "intersect2 = len(skills[(skills[\"azure\"] == 1) & (skills[\"aws\"] == 1)])\n",
    "azure = len(skills[skills[\"azure\"] == 1])\n",
    "aws = len(skills[skills[\"aws\"] == 1])\n",
    "\n",
    "counts2 = (azure, intersect2, aws)\n",
    "venn2(subsets=counts2, set_labels = (\"azure\", \"aws\"))\n",
    "plt.show()"
   ]
  },
  {
   "cell_type": "code",
   "execution_count": 172,
   "metadata": {},
   "outputs": [
    {
     "data": {
      "text/html": [
       "<div>\n",
       "<style scoped>\n",
       "    .dataframe tbody tr th:only-of-type {\n",
       "        vertical-align: middle;\n",
       "    }\n",
       "\n",
       "    .dataframe tbody tr th {\n",
       "        vertical-align: top;\n",
       "    }\n",
       "\n",
       "    .dataframe thead th {\n",
       "        text-align: right;\n",
       "    }\n",
       "</style>\n",
       "<table border=\"1\" class=\"dataframe\">\n",
       "  <thead>\n",
       "    <tr style=\"text-align: right;\">\n",
       "      <th></th>\n",
       "      <th>title</th>\n",
       "      <th>company_name</th>\n",
       "      <th>location</th>\n",
       "      <th>date_time</th>\n",
       "      <th>work_from_home</th>\n",
       "      <th>tech_tokens</th>\n",
       "      <th>deg_tokens</th>\n",
       "      <th>level</th>\n",
       "      <th>etype</th>\n",
       "      <th>airflow</th>\n",
       "      <th>...</th>\n",
       "      <th>twilio</th>\n",
       "      <th>typescript</th>\n",
       "      <th>unix</th>\n",
       "      <th>unix/linux</th>\n",
       "      <th>vb.net</th>\n",
       "      <th>vba</th>\n",
       "      <th>visio</th>\n",
       "      <th>visual_basic</th>\n",
       "      <th>vue</th>\n",
       "      <th>word</th>\n",
       "    </tr>\n",
       "  </thead>\n",
       "  <tbody>\n",
       "    <tr>\n",
       "      <th>194</th>\n",
       "      <td>data analyst</td>\n",
       "      <td>robert half</td>\n",
       "      <td>oklahoma city, ok</td>\n",
       "      <td>2023-05-21 07:00:30.990626</td>\n",
       "      <td>False</td>\n",
       "      <td>['go']</td>\n",
       "      <td>[]</td>\n",
       "      <td>not applicable</td>\n",
       "      <td>contractor</td>\n",
       "      <td>0</td>\n",
       "      <td>...</td>\n",
       "      <td>0</td>\n",
       "      <td>0</td>\n",
       "      <td>0</td>\n",
       "      <td>0</td>\n",
       "      <td>0</td>\n",
       "      <td>0</td>\n",
       "      <td>0</td>\n",
       "      <td>0</td>\n",
       "      <td>0</td>\n",
       "      <td>0</td>\n",
       "    </tr>\n",
       "    <tr>\n",
       "      <th>195</th>\n",
       "      <td>marketing data analyst</td>\n",
       "      <td>ledger bennett</td>\n",
       "      <td>anywhere</td>\n",
       "      <td>2023-05-21 07:00:30.990626</td>\n",
       "      <td>True</td>\n",
       "      <td>['excel', 'tableau', 'sql']</td>\n",
       "      <td>[]</td>\n",
       "      <td>mid-senior level</td>\n",
       "      <td>full-time</td>\n",
       "      <td>0</td>\n",
       "      <td>...</td>\n",
       "      <td>0</td>\n",
       "      <td>0</td>\n",
       "      <td>0</td>\n",
       "      <td>0</td>\n",
       "      <td>0</td>\n",
       "      <td>0</td>\n",
       "      <td>0</td>\n",
       "      <td>0</td>\n",
       "      <td>0</td>\n",
       "      <td>0</td>\n",
       "    </tr>\n",
       "    <tr>\n",
       "      <th>196</th>\n",
       "      <td>boolean search data analyst | $54,000-$108,000...</td>\n",
       "      <td>it pros</td>\n",
       "      <td>anywhere</td>\n",
       "      <td>2023-05-21 07:00:30.990626</td>\n",
       "      <td>True</td>\n",
       "      <td>[]</td>\n",
       "      <td>[]</td>\n",
       "      <td>not applicable</td>\n",
       "      <td>part-time</td>\n",
       "      <td>0</td>\n",
       "      <td>...</td>\n",
       "      <td>0</td>\n",
       "      <td>0</td>\n",
       "      <td>0</td>\n",
       "      <td>0</td>\n",
       "      <td>0</td>\n",
       "      <td>0</td>\n",
       "      <td>0</td>\n",
       "      <td>0</td>\n",
       "      <td>0</td>\n",
       "      <td>0</td>\n",
       "    </tr>\n",
       "    <tr>\n",
       "      <th>197</th>\n",
       "      <td>product data analyst - ditch witch - now hiring</td>\n",
       "      <td>the toro company</td>\n",
       "      <td>perry, ok</td>\n",
       "      <td>2023-05-21 07:00:30.990626</td>\n",
       "      <td>False</td>\n",
       "      <td>['assembly', 'excel', 'sap']</td>\n",
       "      <td>[]</td>\n",
       "      <td>mid-senior level</td>\n",
       "      <td>full-time</td>\n",
       "      <td>0</td>\n",
       "      <td>...</td>\n",
       "      <td>0</td>\n",
       "      <td>0</td>\n",
       "      <td>0</td>\n",
       "      <td>0</td>\n",
       "      <td>0</td>\n",
       "      <td>0</td>\n",
       "      <td>0</td>\n",
       "      <td>0</td>\n",
       "      <td>0</td>\n",
       "      <td>0</td>\n",
       "    </tr>\n",
       "    <tr>\n",
       "      <th>198</th>\n",
       "      <td>data analyst</td>\n",
       "      <td>webtpa</td>\n",
       "      <td>united states</td>\n",
       "      <td>2023-05-21 07:00:30.990626</td>\n",
       "      <td>False</td>\n",
       "      <td>['vba', 'ssrs', 'crystal', 'power_bi', 'ssis',...</td>\n",
       "      <td>[]</td>\n",
       "      <td>not applicable</td>\n",
       "      <td>full-time</td>\n",
       "      <td>0</td>\n",
       "      <td>...</td>\n",
       "      <td>0</td>\n",
       "      <td>0</td>\n",
       "      <td>0</td>\n",
       "      <td>0</td>\n",
       "      <td>0</td>\n",
       "      <td>1</td>\n",
       "      <td>0</td>\n",
       "      <td>0</td>\n",
       "      <td>0</td>\n",
       "      <td>0</td>\n",
       "    </tr>\n",
       "  </tbody>\n",
       "</table>\n",
       "<p>5 rows × 131 columns</p>\n",
       "</div>"
      ],
      "text/plain": [
       "                                                 title      company_name  \\\n",
       "194                                       data analyst       robert half   \n",
       "195                             marketing data analyst    ledger bennett   \n",
       "196  boolean search data analyst | $54,000-$108,000...           it pros   \n",
       "197    product data analyst - ditch witch - now hiring  the toro company   \n",
       "198                                       data analyst            webtpa   \n",
       "\n",
       "                   location                  date_time  work_from_home  \\\n",
       "194    oklahoma city, ok    2023-05-21 07:00:30.990626           False   \n",
       "195               anywhere  2023-05-21 07:00:30.990626            True   \n",
       "196               anywhere  2023-05-21 07:00:30.990626            True   \n",
       "197            perry, ok    2023-05-21 07:00:30.990626           False   \n",
       "198        united states    2023-05-21 07:00:30.990626           False   \n",
       "\n",
       "                                           tech_tokens deg_tokens  \\\n",
       "194                                             ['go']         []   \n",
       "195                        ['excel', 'tableau', 'sql']         []   \n",
       "196                                                 []         []   \n",
       "197                       ['assembly', 'excel', 'sap']         []   \n",
       "198  ['vba', 'ssrs', 'crystal', 'power_bi', 'ssis',...         []   \n",
       "\n",
       "                level       etype  airflow  ...  twilio  typescript  unix  \\\n",
       "194    not applicable  contractor        0  ...       0           0     0   \n",
       "195  mid-senior level   full-time        0  ...       0           0     0   \n",
       "196    not applicable   part-time        0  ...       0           0     0   \n",
       "197  mid-senior level   full-time        0  ...       0           0     0   \n",
       "198    not applicable   full-time        0  ...       0           0     0   \n",
       "\n",
       "     unix/linux  vb.net  vba  visio  visual_basic  vue  word  \n",
       "194           0       0    0      0             0    0     0  \n",
       "195           0       0    0      0             0    0     0  \n",
       "196           0       0    0      0             0    0     0  \n",
       "197           0       0    0      0             0    0     0  \n",
       "198           0       0    1      0             0    0     0  \n",
       "\n",
       "[5 rows x 131 columns]"
      ]
     },
     "execution_count": 172,
     "metadata": {},
     "output_type": "execute_result"
    }
   ],
   "source": [
    "# join back in to get date\n",
    "df_skills = df.join(skills)\n",
    "\n",
    "df_skills.head()"
   ]
  },
  {
   "cell_type": "code",
   "execution_count": 177,
   "metadata": {},
   "outputs": [
    {
     "data": {
      "text/plain": [
       "[]"
      ]
     },
     "execution_count": 177,
     "metadata": {},
     "output_type": "execute_result"
    },
    {
     "data": {
      "image/png": "[encoded data removed]",
      "text/plain": [
       "<Figure size 432x288 with 1 Axes>"
      ]
     },
     "metadata": {
      "needs_background": "light"
     },
     "output_type": "display_data"
    }
   ],
   "source": [
    "df_skills.index = df_skills[\"date_time\"]\n",
    "\n",
    "azure_counts = df_skills.resample('1M').sum()[\"azure\"]\n",
    "bg_counts = df_skills.resample('1M').sum()[\"bigquery\"]\n",
    "aws_counts = df_skills.resample('1M').sum()[\"aws\"]\n",
    "\n",
    "plt.stackplot(azure_counts.index, azure_counts.values, bg_counts.values, aws_counts.values, labels=[\"azure\", \"bigquery\", \"aws\"])\n",
    "plt.legend(loc='upper right')\n",
    "plt.plot()"
   ]
  },
  {
   "cell_type": "code",
   "execution_count": 162,
   "metadata": {},
   "outputs": [
    {
     "name": "stderr",
     "output_type": "stream",
     "text": [
      "C:\\Users\\saidmf\\AppData\\Local\\Temp\\ipykernel_23136\\823247581.py:3: FutureWarning: Using the level keyword in DataFrame and Series aggregations is deprecated and will be removed in a future version. Use groupby instead. df.sum(level=1) should use df.groupby(level=1).sum().\n",
      "  degrees = pd.get_dummies(df.deg_tokens.apply(eval).explode()).sum(level=0)\n"
     ]
    },
    {
     "data": {
      "text/html": [
       "<div>\n",
       "<style scoped>\n",
       "    .dataframe tbody tr th:only-of-type {\n",
       "        vertical-align: middle;\n",
       "    }\n",
       "\n",
       "    .dataframe tbody tr th {\n",
       "        vertical-align: top;\n",
       "    }\n",
       "\n",
       "    .dataframe thead th {\n",
       "        text-align: right;\n",
       "    }\n",
       "</style>\n",
       "<table border=\"1\" class=\"dataframe\">\n",
       "  <thead>\n",
       "    <tr style=\"text-align: right;\">\n",
       "      <th></th>\n",
       "      <th>baccalaureate</th>\n",
       "      <th>bachelor</th>\n",
       "      <th>bachelors</th>\n",
       "      <th>doctorate</th>\n",
       "      <th>masters</th>\n",
       "      <th>phd</th>\n",
       "    </tr>\n",
       "  </thead>\n",
       "  <tbody>\n",
       "    <tr>\n",
       "      <th>194</th>\n",
       "      <td>0</td>\n",
       "      <td>0</td>\n",
       "      <td>0</td>\n",
       "      <td>0</td>\n",
       "      <td>0</td>\n",
       "      <td>0</td>\n",
       "    </tr>\n",
       "    <tr>\n",
       "      <th>195</th>\n",
       "      <td>0</td>\n",
       "      <td>0</td>\n",
       "      <td>0</td>\n",
       "      <td>0</td>\n",
       "      <td>0</td>\n",
       "      <td>0</td>\n",
       "    </tr>\n",
       "    <tr>\n",
       "      <th>196</th>\n",
       "      <td>0</td>\n",
       "      <td>0</td>\n",
       "      <td>0</td>\n",
       "      <td>0</td>\n",
       "      <td>0</td>\n",
       "      <td>0</td>\n",
       "    </tr>\n",
       "    <tr>\n",
       "      <th>197</th>\n",
       "      <td>0</td>\n",
       "      <td>0</td>\n",
       "      <td>0</td>\n",
       "      <td>0</td>\n",
       "      <td>0</td>\n",
       "      <td>0</td>\n",
       "    </tr>\n",
       "    <tr>\n",
       "      <th>198</th>\n",
       "      <td>0</td>\n",
       "      <td>0</td>\n",
       "      <td>0</td>\n",
       "      <td>0</td>\n",
       "      <td>0</td>\n",
       "      <td>0</td>\n",
       "    </tr>\n",
       "    <tr>\n",
       "      <th>...</th>\n",
       "      <td>...</td>\n",
       "      <td>...</td>\n",
       "      <td>...</td>\n",
       "      <td>...</td>\n",
       "      <td>...</td>\n",
       "      <td>...</td>\n",
       "    </tr>\n",
       "    <tr>\n",
       "      <th>13138</th>\n",
       "      <td>0</td>\n",
       "      <td>0</td>\n",
       "      <td>0</td>\n",
       "      <td>0</td>\n",
       "      <td>0</td>\n",
       "      <td>0</td>\n",
       "    </tr>\n",
       "    <tr>\n",
       "      <th>13150</th>\n",
       "      <td>0</td>\n",
       "      <td>1</td>\n",
       "      <td>0</td>\n",
       "      <td>0</td>\n",
       "      <td>0</td>\n",
       "      <td>0</td>\n",
       "    </tr>\n",
       "    <tr>\n",
       "      <th>13151</th>\n",
       "      <td>0</td>\n",
       "      <td>0</td>\n",
       "      <td>0</td>\n",
       "      <td>0</td>\n",
       "      <td>0</td>\n",
       "      <td>0</td>\n",
       "    </tr>\n",
       "    <tr>\n",
       "      <th>13152</th>\n",
       "      <td>0</td>\n",
       "      <td>0</td>\n",
       "      <td>0</td>\n",
       "      <td>0</td>\n",
       "      <td>0</td>\n",
       "      <td>0</td>\n",
       "    </tr>\n",
       "    <tr>\n",
       "      <th>13153</th>\n",
       "      <td>0</td>\n",
       "      <td>0</td>\n",
       "      <td>0</td>\n",
       "      <td>0</td>\n",
       "      <td>0</td>\n",
       "      <td>0</td>\n",
       "    </tr>\n",
       "  </tbody>\n",
       "</table>\n",
       "<p>10005 rows × 6 columns</p>\n",
       "</div>"
      ],
      "text/plain": [
       "       baccalaureate  bachelor  bachelors  doctorate  masters  phd\n",
       "194                0         0          0          0        0    0\n",
       "195                0         0          0          0        0    0\n",
       "196                0         0          0          0        0    0\n",
       "197                0         0          0          0        0    0\n",
       "198                0         0          0          0        0    0\n",
       "...              ...       ...        ...        ...      ...  ...\n",
       "13138              0         0          0          0        0    0\n",
       "13150              0         1          0          0        0    0\n",
       "13151              0         0          0          0        0    0\n",
       "13152              0         0          0          0        0    0\n",
       "13153              0         0          0          0        0    0\n",
       "\n",
       "[10005 rows x 6 columns]"
      ]
     },
     "execution_count": 162,
     "metadata": {},
     "output_type": "execute_result"
    }
   ],
   "source": [
    "# compare degree requirements\n",
    "\n",
    "degrees = pd.get_dummies(df.deg_tokens.apply(eval).explode()).sum(level=0)\n",
    "\n",
    "degrees"
   ]
  },
  {
   "cell_type": "code",
   "execution_count": 164,
   "metadata": {},
   "outputs": [
    {
     "data": {
      "image/png": "[encoded data removed]",
      "text/plain": [
       "<Figure size 432x288 with 1 Axes>"
      ]
     },
     "metadata": {
      "needs_background": "light"
     },
     "output_type": "display_data"
    }
   ],
   "source": [
    "listed_deg = degrees.sum().sort_values(ascending=False)\n",
    "\n",
    "sns.barplot(x = listed_deg.values, y = listed_deg.index)\n",
    "plt.xticks(rotation=45)\n",
    "plt.show()"
   ]
  },
  {
   "cell_type": "markdown",
   "metadata": {},
   "source": [
    "# EDA Bivariate\n",
    "\n",
    "* scatter plots\n",
    "* line plots\n",
    "* correlation heat map"
   ]
  },
  {
   "cell_type": "code",
   "execution_count": null,
   "metadata": {},
   "outputs": [],
   "source": []
  }
 ],
 "metadata": {
  "kernelspec": {
   "display_name": "Python 3",
   "language": "python",
   "name": "python3"
  },
  "language_info": {
   "codemirror_mode": {
    "name": "ipython",
    "version": 3
   },
   "file_extension": ".py",
   "mimetype": "text/x-python",
   "name": "python",
   "nbconvert_exporter": "python",
   "pygments_lexer": "ipython3",
   "version": "3.10.7"
  },
  "orig_nbformat": 4
 },
 "nbformat": 4,
 "nbformat_minor": 2
}
